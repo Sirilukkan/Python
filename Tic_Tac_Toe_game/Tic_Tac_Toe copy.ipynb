{
 "cells": [
  {
   "cell_type": "markdown",
   "metadata": {},
   "source": [
    "# Create Tic Tac Toe game step by step\n",
    "\n",
    "Create a Tic Tac Toe game. You can use any IDE you are comfortable with.\n",
    "\n",
    "Requirements:\n",
    "\n",
    "* 2 players should be able to play the game (both sitting at the same computer)\n",
    "* The board should be printed out every time a player makes a move\n",
    "* You should be able to accept input of the player position and then place a symbol on the board\n"
   ]
  },
  {
   "cell_type": "markdown",
   "metadata": {},
   "source": [
    "**1. Create the board for the games**"
   ]
  },
  {
   "cell_type": "code",
   "execution_count": 1,
   "metadata": {},
   "outputs": [],
   "source": [
    "from IPython.display import clear_output #useful in creating an interactive notebook"
   ]
  },
  {
   "cell_type": "code",
   "execution_count": 72,
   "metadata": {},
   "outputs": [],
   "source": [
    "#1. write a function that can print out a broad\n",
    "def display_board(board):\n",
    "    \n",
    "    clear_output() # clear output before printing out new board\n",
    "    print(board[7]+'|'+ board[8]+'|' + board[9])\n",
    "    print('-----')\n",
    "    print(board[4]+'|'+ board[5]+'|' + board[6])\n",
    "    print('-----')\n",
    "    print(board[1]+'|'+ board[2]+'|' + board[3])\n",
    "    "
   ]
  },
  {
   "cell_type": "code",
   "execution_count": 128,
   "metadata": {},
   "outputs": [
    {
     "name": "stdout",
     "output_type": "stream",
     "text": [
      " | | \n",
      "-----\n",
      " | | \n",
      "-----\n",
      " | | \n"
     ]
    }
   ],
   "source": [
    "test_board = ['#',' ',' ',' ',' ',' ',' ',' ',' ',' ']\n",
    "#\"#\" as place holder of 0 index\n",
    "display_board(test_board)"
   ]
  },
  {
   "cell_type": "markdown",
   "metadata": {},
   "source": [
    "**2. Write a function to take player 1 and 2 input of X or O**"
   ]
  },
  {
   "cell_type": "code",
   "execution_count": 89,
   "metadata": {},
   "outputs": [],
   "source": [
    "#2 Write a functiona that can take input and assign their marker as 'X' or 'O'\n",
    "\n",
    "# def player_input():\n",
    "    \n",
    "#     marker = input(\"Enter the marker as X or O: \").upper()\n",
    "    \n",
    "#     while marker not in ['X','O']:\n",
    "#         print('Sorry! the input is in valid, please enter (X or O)')\n",
    "#         marker = input(\"Enter the marker as X or O: \").upper()\n",
    "#     return marker"
   ]
  },
  {
   "cell_type": "code",
   "execution_count": 80,
   "metadata": {},
   "outputs": [],
   "source": [
    "#Solution\n",
    "def player_input():\n",
    "    '''\n",
    "    OUTPUT = (Player_1_marker, Player_2_marker)\n",
    "    '''\n",
    "    \n",
    "    marker = ''\n",
    "    #while not (marker == 'X' or marker == 'O'):\n",
    "    while marker != 'X' and marker != 'O':\n",
    "        marker = input('Player1: Choose X or O: ').upper()\n",
    "        \n",
    "        if marker == 'X':\n",
    "            \n",
    "            return ('X','O')\n",
    "        else:\n",
    "        \n",
    "            return ('O','X')"
   ]
  },
  {
   "cell_type": "code",
   "execution_count": 81,
   "metadata": {},
   "outputs": [
    {
     "name": "stdout",
     "output_type": "stream",
     "text": [
      "Player1: Choose X or O: O\n"
     ]
    },
    {
     "data": {
      "text/plain": [
       "('O', 'X')"
      ]
     },
     "execution_count": 81,
     "metadata": {},
     "output_type": "execute_result"
    }
   ],
   "source": [
    "player_input()"
   ]
  },
  {
   "cell_type": "code",
   "execution_count": 85,
   "metadata": {},
   "outputs": [
    {
     "name": "stdout",
     "output_type": "stream",
     "text": [
      "Player1: Choose X or O: O\n"
     ]
    }
   ],
   "source": [
    "#Tuple unpacking\n",
    "player1_marker, player2_marker = player_input()"
   ]
  },
  {
   "cell_type": "code",
   "execution_count": 86,
   "metadata": {},
   "outputs": [
    {
     "data": {
      "text/plain": [
       "'X'"
      ]
     },
     "execution_count": 86,
     "metadata": {},
     "output_type": "execute_result"
    }
   ],
   "source": [
    "player2_marker"
   ]
  },
  {
   "cell_type": "code",
   "execution_count": 74,
   "metadata": {},
   "outputs": [],
   "source": [
    "# another way of writing it.\n",
    "def player_input():\n",
    "    \n",
    "    marker = ''\n",
    "    \n",
    "    #Keep asking player 1 to choose 'X' or 'O'\n",
    "    while marker != 'X' and marker != 'O':\n",
    "        marker = input('Player1, choose X or O: ').upper()\n",
    "    \n",
    "    # Assign player 2 the opposit marker\n",
    "    player1 = marker\n",
    "    \n",
    "    if player1 == 'X':\n",
    "        player2 = 'O'\n",
    "    else:\n",
    "        player2 = 'X'\n",
    "        \n",
    "    return (player1,  player2)"
   ]
  },
  {
   "cell_type": "code",
   "execution_count": 75,
   "metadata": {},
   "outputs": [
    {
     "name": "stdout",
     "output_type": "stream",
     "text": [
      "Player1, choose X or O: X\n"
     ]
    },
    {
     "data": {
      "text/plain": [
       "('X', 'O')"
      ]
     },
     "execution_count": 75,
     "metadata": {},
     "output_type": "execute_result"
    }
   ],
   "source": [
    "player_input() #player 1 choose 0, then player 2 got X"
   ]
  },
  {
   "cell_type": "code",
   "execution_count": 38,
   "metadata": {},
   "outputs": [
    {
     "name": "stdout",
     "output_type": "stream",
     "text": [
      "Player1, choose X or O: X\n"
     ]
    }
   ],
   "source": [
    "player1_marker, player2_marker = player_input()"
   ]
  },
  {
   "cell_type": "code",
   "execution_count": 39,
   "metadata": {},
   "outputs": [
    {
     "data": {
      "text/plain": [
       "'X'"
      ]
     },
     "execution_count": 39,
     "metadata": {},
     "output_type": "execute_result"
    }
   ],
   "source": [
    "player1_marker"
   ]
  },
  {
   "cell_type": "code",
   "execution_count": 40,
   "metadata": {},
   "outputs": [
    {
     "data": {
      "text/plain": [
       "'O'"
      ]
     },
     "execution_count": 40,
     "metadata": {},
     "output_type": "execute_result"
    }
   ],
   "source": [
    "player2_marker"
   ]
  },
  {
   "cell_type": "markdown",
   "metadata": {},
   "source": [
    "**Now we have the board and player input of player1 and player2**"
   ]
  },
  {
   "cell_type": "markdown",
   "metadata": {},
   "source": [
    "**Step 3: Write a function that takes in the board list object, a marker ('X' or 'O'), and a desired position (number 1-9) and assigns it to the board.**"
   ]
  },
  {
   "cell_type": "code",
   "execution_count": 129,
   "metadata": {},
   "outputs": [],
   "source": [
    "#solution\n",
    "def place_marker(board, marker, position):   \n",
    "    \n",
    "    board[position] = marker"
   ]
  },
  {
   "cell_type": "code",
   "execution_count": 130,
   "metadata": {},
   "outputs": [
    {
     "name": "stdout",
     "output_type": "stream",
     "text": [
      " |X| \n",
      "-----\n",
      " |X| \n",
      "-----\n",
      " |X| \n"
     ]
    }
   ],
   "source": [
    "place_marker(test_board,'X',8)\n",
    "place_marker(test_board,'X',5)\n",
    "place_marker(test_board,'X',2)\n",
    "display_board(test_board)"
   ]
  },
  {
   "cell_type": "markdown",
   "metadata": {},
   "source": [
    "**Step 4: Write a function that takes in a board and a mark (X or O) and then checks to see if that mark has won.**"
   ]
  },
  {
   "cell_type": "code",
   "execution_count": 131,
   "metadata": {},
   "outputs": [],
   "source": [
    "def win_check(board, mark):\n",
    "    \n",
    "    # Win TIC TAC TOE?\n",
    "    \n",
    "    #All rows, and check to see if they all share the same marker\n",
    "    return ((board[1] == mark and board[2] == mark and board[3] == mark) or\n",
    "    (board[4] == board[5] == board[6] == mark) or\n",
    "    (board[7] == board[8] == board[9] == mark) or\n",
    "    #All columns\n",
    "    (board[7] == board[4] == board[1] == mark) or\n",
    "    (board[8] == board[5] == board[2] == mark) or\n",
    "    (board[9] == board[6] == board[3] == mark) or\n",
    "    # 2diagonal to check, check to see match\n",
    "    (board[1] == board[5] == board[9] == mark) or\n",
    "    (board[3] == board[5] == board[7] == mark))"
   ]
  },
  {
   "cell_type": "code",
   "execution_count": 134,
   "metadata": {},
   "outputs": [
    {
     "data": {
      "text/plain": [
       "True"
      ]
     },
     "execution_count": 134,
     "metadata": {},
     "output_type": "execute_result"
    }
   ],
   "source": [
    "win_check(test_board,'X')"
   ]
  },
  {
   "cell_type": "markdown",
   "metadata": {},
   "source": [
    "**Step 5: Write a function that uses the random module to randomly decide which player goes first. You may want to lookup random.randint() Return a string of which player went first.**"
   ]
  },
  {
   "cell_type": "code",
   "execution_count": 200,
   "metadata": {},
   "outputs": [
    {
     "data": {
      "text/plain": [
       "1"
      ]
     },
     "execution_count": 200,
     "metadata": {},
     "output_type": "execute_result"
    }
   ],
   "source": [
    "random.randint(0,1)"
   ]
  },
  {
   "cell_type": "code",
   "execution_count": 201,
   "metadata": {},
   "outputs": [],
   "source": [
    "import random\n",
    "\n",
    "def choose_first():\n",
    "    flip = random.randint(0,1) #coin flip\n",
    "    \n",
    "    if flip == 0:\n",
    "        return 'Player 1'\n",
    "    else:\n",
    "        return 'Player 2'"
   ]
  },
  {
   "cell_type": "code",
   "execution_count": 202,
   "metadata": {},
   "outputs": [
    {
     "data": {
      "text/plain": [
       "'Player 2'"
      ]
     },
     "execution_count": 202,
     "metadata": {},
     "output_type": "execute_result"
    }
   ],
   "source": [
    "choose_first()"
   ]
  },
  {
   "cell_type": "markdown",
   "metadata": {},
   "source": [
    "**Step 6: Write a function that returns a boolean indicating whether a space on the board is freely available.**"
   ]
  },
  {
   "cell_type": "code",
   "execution_count": 136,
   "metadata": {},
   "outputs": [],
   "source": [
    "def space_check(board, position):\n",
    "    \n",
    "    #using isspace() to return True if there is an empty space in list\n",
    "    if board[position].isspace():\n",
    "        return True\n",
    "    else:\n",
    "        return False"
   ]
  },
  {
   "cell_type": "code",
   "execution_count": 140,
   "metadata": {},
   "outputs": [
    {
     "data": {
      "text/plain": [
       "False"
      ]
     },
     "execution_count": 140,
     "metadata": {},
     "output_type": "execute_result"
    }
   ],
   "source": [
    "space_check(test_board, 2)"
   ]
  },
  {
   "cell_type": "code",
   "execution_count": 138,
   "metadata": {},
   "outputs": [],
   "source": [
    "#or\n",
    "def space_check(board, position):\n",
    "    return board[position] == ' '"
   ]
  },
  {
   "cell_type": "code",
   "execution_count": 164,
   "metadata": {},
   "outputs": [
    {
     "name": "stdout",
     "output_type": "stream",
     "text": [
      " |X| \n",
      "-----\n",
      " |X| \n",
      "-----\n",
      " |X| \n"
     ]
    }
   ],
   "source": [
    "display_board(test_board)"
   ]
  },
  {
   "cell_type": "code",
   "execution_count": 141,
   "metadata": {},
   "outputs": [
    {
     "data": {
      "text/plain": [
       "False"
      ]
     },
     "execution_count": 141,
     "metadata": {},
     "output_type": "execute_result"
    }
   ],
   "source": [
    "space_check(test_board, 2)"
   ]
  },
  {
   "cell_type": "markdown",
   "metadata": {},
   "source": [
    "**Step 7: Write a function that checks if the board is full and returns a boolean value. True if full, False otherwise.**"
   ]
  },
  {
   "cell_type": "code",
   "execution_count": 142,
   "metadata": {},
   "outputs": [],
   "source": [
    "def full_board_check(board):\n",
    "    \n",
    "    for i in range(1,10):\n",
    "        #if board[i] == ' ':\n",
    "        if space_check(board, i):\n",
    "            return False\n",
    "        \n",
    "    #board is full if we return True\n",
    "    return True"
   ]
  },
  {
   "cell_type": "code",
   "execution_count": 143,
   "metadata": {},
   "outputs": [
    {
     "data": {
      "text/plain": [
       "False"
      ]
     },
     "execution_count": 143,
     "metadata": {},
     "output_type": "execute_result"
    }
   ],
   "source": [
    "full_board_check(test_board)"
   ]
  },
  {
   "cell_type": "markdown",
   "metadata": {},
   "source": [
    "**Step 8: Write a function that asks for a player's next position (as a number 1-9) and then uses the function from step 6 to check if it's a free position. If it is, then return the position for later use.**"
   ]
  },
  {
   "cell_type": "code",
   "execution_count": 167,
   "metadata": {},
   "outputs": [],
   "source": [
    "def player_choice(board):\n",
    "    \n",
    "    position = 0\n",
    "    \n",
    "    while position not in [1,2,3,4,5,6,7,8,9] or not space_check(board, position):\n",
    "        position = int(input(\"Enter a position of number 1-9: \"))\n",
    "    \n",
    "    return position"
   ]
  },
  {
   "cell_type": "code",
   "execution_count": 170,
   "metadata": {},
   "outputs": [
    {
     "name": "stdout",
     "output_type": "stream",
     "text": [
      "Enter a position of number 1-9: 2\n",
      "Enter a position of number 1-9: 3\n"
     ]
    },
    {
     "data": {
      "text/plain": [
       "3"
      ]
     },
     "execution_count": 170,
     "metadata": {},
     "output_type": "execute_result"
    }
   ],
   "source": [
    "player_choice(test_board)"
   ]
  },
  {
   "cell_type": "code",
   "execution_count": 163,
   "metadata": {},
   "outputs": [
    {
     "name": "stdout",
     "output_type": "stream",
     "text": [
      "Enter a position of number 1-9: 2\n"
     ]
    },
    {
     "data": {
      "text/plain": [
       "'2'"
      ]
     },
     "execution_count": 163,
     "metadata": {},
     "output_type": "execute_result"
    }
   ],
   "source": [
    "player_choice(test_board)"
   ]
  },
  {
   "cell_type": "markdown",
   "metadata": {},
   "source": [
    "**Step 9: Write a function that asks the player if they want to play again and returns a boolean True if they do want to play again.**"
   ]
  },
  {
   "cell_type": "code",
   "execution_count": 182,
   "metadata": {},
   "outputs": [],
   "source": [
    "def replay():\n",
    "    \n",
    "    choice = 'Wrong'\n",
    "    \n",
    "    while choice not in ['Y','N']:\n",
    "        choice = input('Play again? (Y or N): ')\n",
    "        \n",
    "        if choice not in ['Y','N']:\n",
    "            print('Sorry, I dont understand, please choose Y or N: ')\n",
    "        \n",
    "    if choice == 'Y':\n",
    "        return True\n",
    "    else:\n",
    "        return False"
   ]
  },
  {
   "cell_type": "code",
   "execution_count": 178,
   "metadata": {},
   "outputs": [
    {
     "name": "stdout",
     "output_type": "stream",
     "text": [
      "Play again? (Y or N): a\n",
      "Sorry, I dont understand, please choose Y or N: \n",
      "Play again? (Y or N): N\n"
     ]
    },
    {
     "data": {
      "text/plain": [
       "False"
      ]
     },
     "execution_count": 178,
     "metadata": {},
     "output_type": "execute_result"
    }
   ],
   "source": [
    "replay()"
   ]
  },
  {
   "cell_type": "code",
   "execution_count": 185,
   "metadata": {},
   "outputs": [],
   "source": [
    "#or\n",
    "def replay():\n",
    "    choice = input(\"Play again? (Yes or No): \")\n",
    "    return choice == 'Yes'"
   ]
  },
  {
   "cell_type": "code",
   "execution_count": 186,
   "metadata": {},
   "outputs": [
    {
     "name": "stdout",
     "output_type": "stream",
     "text": [
      "Play again? (Yes or No): Yes\n"
     ]
    },
    {
     "data": {
      "text/plain": [
       "True"
      ]
     },
     "execution_count": 186,
     "metadata": {},
     "output_type": "execute_result"
    }
   ],
   "source": [
    "replay()"
   ]
  },
  {
   "cell_type": "markdown",
   "metadata": {},
   "source": [
    "**Step 10: Here comes the hard part! Use while loops and the functions you've made to run the game!**"
   ]
  },
  {
   "cell_type": "code",
   "execution_count": 214,
   "metadata": {},
   "outputs": [
    {
     "name": "stdout",
     "output_type": "stream",
     "text": [
      " |O| \n",
      "-----\n",
      " |O|X\n",
      "-----\n",
      "X|O|X\n",
      "Player 2 has won!\n",
      "Play again? (Yes or No): No\n"
     ]
    }
   ],
   "source": [
    "# While loop to keep running the game\n",
    "print('Welcome to Tic Tac Toe!')\n",
    "\n",
    "while True:\n",
    "    #Play the game\n",
    "    the_board = [' ']*10\n",
    "    player1_marker, player2_marker = player_input()\n",
    "    \n",
    "    turn = choose_first()\n",
    "    print(turn + ' will go first')\n",
    "    \n",
    "    play_game = input('Ready to play? y or n ').lower()\n",
    "    \n",
    "    if play_game == 'y':\n",
    "        game_on = True\n",
    "    else:\n",
    "        game_on = False\n",
    "    \n",
    "    #Game Play\n",
    "    while game_on:\n",
    "        if turn == 'Player 1':\n",
    "            \n",
    "            #Player 1 Turn\n",
    "            #show the board\n",
    "            display_board(the_board)\n",
    "            #choose a position\n",
    "            position = player_choice(the_board)\n",
    "            #place the marker on the position\n",
    "            place_marker(the_board, player1_marker, position)\n",
    "        \n",
    "        #Check if they won or check if there is a tie\n",
    "            if win_check(the_board, player1_maker):\n",
    "                display_board(the_board)\n",
    "                print('Player 1 has won!')\n",
    "                game_on = False\n",
    "            else:\n",
    "                #check if the board is full\n",
    "                if full_board_check(the_board):\n",
    "                    display_board(the_board)\n",
    "                    print('Tie game')\n",
    "                    game_on = False\n",
    "                else:\n",
    "                    turn = 'Player 2'\n",
    "        else:\n",
    "            display_board(the_board)\n",
    "            #choose a position\n",
    "            position = player_choice(the_board)\n",
    "            #place the marker on the position\n",
    "            place_marker(the_board, player2_marker, position)\n",
    "            \n",
    "        #Check if they won or check if there is a tie\n",
    "            if win_check(the_board,player2_marker):\n",
    "                display_board(the_board)\n",
    "                print('Player 2 has won!')\n",
    "                game_on = False\n",
    "            \n",
    "            else:\n",
    "                #check if the board is full\n",
    "                if full_board_check(the_board):\n",
    "                    display_board(the_board)\n",
    "                    print('Tie game')\n",
    "                    game_on = False\n",
    "                else:\n",
    "                    turn = 'Player 1'            \n",
    "        \n",
    "    \n",
    "    if not replay():\n",
    "        break\n",
    "        \n",
    "#Break of the while loop on replay()"
   ]
  },
  {
   "cell_type": "code",
   "execution_count": null,
   "metadata": {},
   "outputs": [],
   "source": []
  }
 ],
 "metadata": {
  "kernelspec": {
   "display_name": "Python 3 (ipykernel)",
   "language": "python",
   "name": "python3"
  },
  "language_info": {
   "codemirror_mode": {
    "name": "ipython",
    "version": 3
   },
   "file_extension": ".py",
   "mimetype": "text/x-python",
   "name": "python",
   "nbconvert_exporter": "python",
   "pygments_lexer": "ipython3",
   "version": "3.9.13"
  }
 },
 "nbformat": 4,
 "nbformat_minor": 1
}
