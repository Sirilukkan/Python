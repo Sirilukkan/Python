{
 "cells": [
  {
   "cell_type": "markdown",
   "metadata": {},
   "source": [
    "## <center>Introduction to Python Programming – Mini Project</center>\n"
   ]
  },
  {
   "cell_type": "markdown",
   "metadata": {},
   "source": [
    "### Problem 1\n",
    "\n",
    "Write a program to calculate area of shapes. Your program should be capable of calculating the area of a square, rectangle, triangle and a circle. The user should be presented with options to select the shape. Based on which shape is chosen by the user, the program should ask for the appropriate input and print the resulting area on the screen.\n",
    "\n",
    "When the program is run, the screen should display something like this:\n",
    "\n",
    "**Which shape would you like to calculate the area for? Please enter the option number-**<br>\n",
    "**1. Square**<br>\n",
    "**2. Rectangle**<br>\n",
    "**3. Triangle**<br>\n",
    "**4. Circle**<br>\n",
    "**Enter Option: _**\n",
    "\n",
    "Say the user enters the option 1.\n",
    "\n",
    "**Please enter the length of a side: _**\n",
    "\n",
    "If the user enters a value of 5. The output should be:\n",
    "\n",
    "**The area of the square is 25**\n",
    "\n",
    "This program should indicate that the input is invalid if the user enters a character instead of a number as input. For instance if the user enters a value of ‘a’ instead of 5 in the previous example the program should prompt:\n",
    "\n",
    "**Invalid input, please enter a number: _**\n"
   ]
  },
  {
   "cell_type": "code",
   "execution_count": 26,
   "metadata": {},
   "outputs": [
    {
     "name": "stdout",
     "output_type": "stream",
     "text": [
      "1 = Area of Square\n",
      "2 = Area of Rectangle\n",
      "3 = Area of Triangle\n",
      "4 = Area of Circle\n",
      "5 = End\n",
      "1\n",
      "Enter length of square:10\n",
      "The area of Square shape=  100\n",
      "Something wrong\n",
      "1 = Area of Square\n",
      "2 = Area of Rectangle\n",
      "3 = Area of Triangle\n",
      "4 = Area of Circle\n",
      "5 = End\n",
      "2\n",
      "Enter length of Rectangle:3\n",
      "Enter width of Rectangle:5\n",
      "The area of Rectangle shape=  15\n",
      "Something wrong\n",
      "1 = Area of Square\n",
      "2 = Area of Rectangle\n",
      "3 = Area of Triangle\n",
      "4 = Area of Circle\n",
      "5 = End\n",
      "3\n",
      "Enter the base length of the Triangle:10\n",
      "Enter the height of Trangle:6\n",
      "The area of Triangle shape=  30.0\n",
      "Something wrong\n",
      "1 = Area of Square\n",
      "2 = Area of Rectangle\n",
      "3 = Area of Triangle\n",
      "4 = Area of Circle\n",
      "5 = End\n",
      "4\n",
      "Enter the radius of circle:2\n",
      "The area of Circle shape=  12.566370614359172\n",
      "Something wrong\n",
      "1 = Area of Square\n",
      "2 = Area of Rectangle\n",
      "3 = Area of Triangle\n",
      "4 = Area of Circle\n",
      "5 = End\n",
      "5\n",
      "Thank you\n"
     ]
    }
   ],
   "source": [
    "import math\n",
    "\n",
    "def main():\n",
    "    Area = 0\n",
    "    selection = 0\n",
    "    while selection != '4':\n",
    "        print('1 = Area of Square')\n",
    "        print('2 = Area of Rectangle')\n",
    "        print('3 = Area of Triangle')\n",
    "        print('4 = Area of Circle')\n",
    "        print('5 = End')\n",
    "    \n",
    "        selection = int(input())\n",
    "    \n",
    "        if selection == 1:\n",
    "            Area = Square()\n",
    "        if selection == 2:\n",
    "            Area = Rectangle()\n",
    "        if selection == 3:\n",
    "            Area = Triangle()\n",
    "        if selection == 4:\n",
    "            Area = Circle()\n",
    "        if selection == 5:\n",
    "            print('Thank you')\n",
    "            break\n",
    "        else:\n",
    "            print('Something wrong')\n",
    "\n",
    "#Calculate the area of a square shape\n",
    "def Square():\n",
    "    l = int(input('Enter length of square:'))\n",
    "    Area = l*l    \n",
    "    print('The area of Square shape= ', Area)\n",
    "\n",
    "#Calculate the area of a rectangle shape\n",
    "def Rectangle():\n",
    "    l = int(input('Enter length of Rectangle:'))\n",
    "    w = int(input('Enter width of Rectangle:'))\n",
    "    Area = l*w\n",
    "    print('The area of Rectangle shape= ', Area)\n",
    "\n",
    "#Calculate the area of a triangle shape\n",
    "def Triangle():\n",
    "    b = int(input('Enter the base length of the Triangle:'))\n",
    "    h = int(input('Enter the height of Trangle:'))\n",
    "    Area = (1/2)*b*h\n",
    "    print('The area of Triangle shape= ', Area)\n",
    "    \n",
    "\n",
    "#Calculate the area of a circle shape\n",
    "def Circle():\n",
    "    pi = math.pi\n",
    "    r = float(input(\"Enter the radius of circle:\"))\n",
    "    Area = pi*r*r\n",
    "    print('The area of Circle shape= ', Area)\n",
    "    \n",
    "main()"
   ]
  },
  {
   "cell_type": "markdown",
   "metadata": {},
   "source": [
    "### Problem 2\n",
    "\n",
    "You have newly joined an organization abc.com. Write a python function that will take your 1st and last name as input and print the official mail as which has a format like firstname.lastname@abc.com\n",
    "\n",
    "When the program is run, the screen should display something like this:\n",
    "\n",
    "Enter your first name: nikhil\n",
    "\n",
    "Enter your last name: agrawal\n",
    "\n",
    "You official email id is nikhil.agrawal@abc.com \n",
    "\n",
    "**Hint:** use string concatenation."
   ]
  },
  {
   "cell_type": "code",
   "execution_count": 25,
   "metadata": {},
   "outputs": [
    {
     "name": "stdout",
     "output_type": "stream",
     "text": [
      "Enter my first name: Siriluk\n",
      "Enter my last name: Kanchankungwankul\n",
      "Siriluk.Kanchankungwankul@abc.com\n"
     ]
    }
   ],
   "source": [
    "first_name = input('Enter my first name: ')\n",
    "last_name = input('Enter my last name: ')\n",
    "print(str(first_name)+'.'+str(last_name)+'@abc.com')"
   ]
  },
  {
   "cell_type": "code",
   "execution_count": null,
   "metadata": {},
   "outputs": [],
   "source": []
  }
 ],
 "metadata": {
  "kernelspec": {
   "display_name": "Python 3 (ipykernel)",
   "language": "python",
   "name": "python3"
  },
  "language_info": {
   "codemirror_mode": {
    "name": "ipython",
    "version": 3
   },
   "file_extension": ".py",
   "mimetype": "text/x-python",
   "name": "python",
   "nbconvert_exporter": "python",
   "pygments_lexer": "ipython3",
   "version": "3.9.7"
  }
 },
 "nbformat": 4,
 "nbformat_minor": 2
}
